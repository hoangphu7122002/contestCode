{
  "nbformat": 4,
  "nbformat_minor": 0,
  "metadata": {
    "colab": {
      "name": "SP_BFS.ipynb",
      "provenance": [],
      "collapsed_sections": []
    },
    "kernelspec": {
      "name": "python3",
      "display_name": "Python 3"
    }
  },
  "cells": [
    {
      "cell_type": "code",
      "metadata": {
        "id": "a3hYgaHPUkua"
      },
      "source": [
        "'''\n",
        "  Function to find Shortest Path based on BFS\n",
        "  Time complexity = O(V+E); V, E is the number of vertices and edges\n",
        "\n",
        "  Parameters:\n",
        "  -----------\n",
        "    graph: defaultdict\n",
        "           Graph, each starting vertex as a key is a list of ending vertices\n",
        "    start: integer, string\n",
        "           Starting vertex of the shortest path\n",
        "    end  : integer, string\n",
        "           Ending vertex of the shortest path\n",
        "\n",
        "  Returns:\n",
        "  --------\n",
        "    new_path: list\n",
        "              Shortest path, contains all nodes on the path\n",
        "\n",
        "  Examples:\n",
        "  ---------\n",
        "    >>> graph = {0: [1, 3], 1: [2], 3: [4, 7], 4: [5, 6, 7], 5: [6], 6: [7]}\n",
        "    >>> print(SP_BFS(graph, 0, 7))\n",
        "    [0, 3, 7]\n",
        "'''\n",
        "\n",
        "def SP_BFS(graph, start, end): \n",
        "  explored = [] \n",
        "      \n",
        "  # Queue for traversing the graph in the BFS \n",
        "  queue = [[start]] \n",
        "      \n",
        "  # Loop to traverse the graph with the help of the queue \n",
        "  while queue: \n",
        "    path = queue.pop(0) \n",
        "    node = path[-1] \n",
        "          \n",
        "    # Condition to check if the current node is not visited \n",
        "    if node not in explored: \n",
        "      neighbours = graph[node] \n",
        "              \n",
        "      # Loop to iterate over the neighbours of the node \n",
        "      for neighbour in neighbours: \n",
        "        new_path = list(path) \n",
        "        new_path.append(neighbour) \n",
        "        queue.append(new_path) \n",
        "                  \n",
        "        # Condition to check if the neighbour node is the end \n",
        "        if neighbour == end: \n",
        "          return new_path\n",
        "\n",
        "      explored.append(node)"
      ],
      "execution_count": null,
      "outputs": []
    }
  ]
}