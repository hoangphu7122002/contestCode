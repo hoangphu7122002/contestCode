{
  "nbformat": 4,
  "nbformat_minor": 0,
  "metadata": {
    "colab": {
      "name": "BST_Find.ipynb",
      "provenance": [],
      "collapsed_sections": []
    },
    "kernelspec": {
      "name": "python3",
      "display_name": "Python 3"
    }
  },
  "cells": [
    {
      "cell_type": "code",
      "metadata": {
        "id": "a3hYgaHPUkua"
      },
      "source": [
        "'''\n",
        "  Function to check if a number is in a sorted list using Binary Search Tree Algorithm\n",
        "  Time complexity = O(logn)\n",
        "\n",
        "  Parameters:\n",
        "  -----------\n",
        "    sortedList: list\n",
        "                A sorted list of numbers as the input \n",
        "    n         : integer\n",
        "                The number to find\n",
        "\n",
        "  Returns:\n",
        "  --------\n",
        "    True/False: boolean\n",
        "\n",
        "  Examples:\n",
        "  ---------\n",
        "    >>> l = [1, 3, 5, 6, 7, 10]\n",
        "    >>> print(BST_Find(l,3))\n",
        "    True\n",
        "    >>> print(BST_Find(l,8))\n",
        "    False\n",
        "'''\n",
        "\n",
        "from bisect import bisect_left\n",
        "\n",
        "def BST_Find(sortedList,n):\n",
        "  idx = bisect_left(sortedList,n)\n",
        "  if idx < len(sortedList) and sortedList[idx] == n:\n",
        "    return True\n",
        "  else:\n",
        "    return False"
      ],
      "execution_count": null,
      "outputs": []
    }
  ]
}
