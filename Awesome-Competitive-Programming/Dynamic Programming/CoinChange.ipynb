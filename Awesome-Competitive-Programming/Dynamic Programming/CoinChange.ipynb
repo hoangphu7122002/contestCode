{
  "nbformat": 4,
  "nbformat_minor": 0,
  "metadata": {
    "colab": {
      "name": "IntegerPartition.ipynb",
      "provenance": [],
      "collapsed_sections": []
    },
    "kernelspec": {
      "name": "python3",
      "display_name": "Python 3"
    }
  },
  "cells": [
    {
      "cell_type": "code",
      "metadata": {
        "id": "a3hYgaHPUkua"
      },
      "source": [
        "'''\n",
        "  Function to find how many ways to pay V money using C coins [C1,C2,...,Cn]\n",
        "  Time complexity = O(C.V)\n",
        "\n",
        "  Parameters:\n",
        "  -----------\n",
        "    V     : integer\n",
        "            Value of money to be paid\n",
        "    C     : list\n",
        "            All coin types available \n",
        "    output: 'single' (by default) or 'all', optional\n",
        "            2 types of output\n",
        "\n",
        "  Returns:\n",
        "  --------\n",
        "    output = 'single': integer\n",
        "                       Number of ways to pay V using C coins\n",
        "    output = 'all'   : list\n",
        "                       All numbers of ways to pay each [1,2,...,V] money using C coins\n",
        "\n",
        "  Examples:\n",
        "  ---------\n",
        "      With 4 types of coins C = [8,3,1,2], we can make change for V = 3 in\n",
        "      3 ways: {1,1,1}, {1,2} and {3}\n",
        "\n",
        "    >>> C = [8,3,1,2]\n",
        "    >>> V = 3\n",
        "    >>> print(CoinChange(V, C))\n",
        "    3\n",
        "\n",
        "      To pay 1 money, we have 1 way : {1}\n",
        "             2 money, we have 2 ways: {1,1} and {2}\n",
        "             3 money, we have 3 ways: {1,1,1}, {1,2} and {3}\n",
        "             \n",
        "    >>> C = [8,3,1,2]\n",
        "    >>> V = 3\n",
        "    >>> print(CoinChange(V, C, output='all'))\n",
        "    [1, 1, 2, 3]\n",
        "\n",
        "  References: \n",
        "    https://blog.dreamshire.com/project-euler-31-solution/\n",
        "'''\n",
        "\n",
        "def CoinChange(V, C, output='single'):\n",
        "  memo = [1]+[0]*V # Memory for dynamic programming\n",
        "  \n",
        "  for coin in C:\n",
        "    for val in range(coin,V+1):\n",
        "      memo[val] += memo[val-coin]\n",
        "  \n",
        "  # 2 ways of output: 'single' or 'all'\n",
        "  if output == 'all': return memo\n",
        "  if output == 'single': return memo[V]"
      ],
      "execution_count": null,
      "outputs": []
    }
  ]
}
