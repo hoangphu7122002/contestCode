{
  "nbformat": 4,
  "nbformat_minor": 0,
  "metadata": {
    "colab": {
      "name": "DFS.ipynb",
      "provenance": [],
      "collapsed_sections": []
    },
    "kernelspec": {
      "name": "python3",
      "display_name": "Python 3"
    }
  },
  "cells": [
    {
      "cell_type": "code",
      "metadata": {
        "id": "a3hYgaHPUkua"
      },
      "source": [
        "'''\n",
        "  Function to find Depth-First Search path from a source node in un-/directed graph\n",
        "  Time complexity = O(V+E) for Adjacency List\n",
        "\n",
        "  Parameters:\n",
        "  -----------\n",
        "    graph: defaultdict\n",
        "           Graph, each starting vertex as a key is a list of ending vertices\n",
        "    V    : integer\n",
        "           Number of vertices\n",
        "    src  : integer\n",
        "           Starting vertex of the DFS path\n",
        "\n",
        "  Returns:\n",
        "  --------\n",
        "    path: list\n",
        "          DFS path, contains all nodes on the path\n",
        "\n",
        "  Examples:\n",
        "  ---------\n",
        "    >>> graph = {0: [1, 2], 1: [2], 2: [0, 3], 3: [3]}\n",
        "    >>> V = 4\n",
        "    >>> src = 2\n",
        "    >>> print(DFS(graph, V, src))\n",
        "    [2, 3, 0, 1]\n",
        "\n",
        "  References:\n",
        "    https://www.geeksforgeeks.org/iterative-depth-first-traversal/\n",
        "'''\n",
        "\n",
        "def DFS(graph, V, src):            \n",
        "  visited = [False]*V # Mark all verices as not visited \n",
        "  stack = [] # Create a stack for DFS \n",
        "  stack.append(src) # Push the current source node\n",
        "  visited[src] = True # Mark the source node as visited\n",
        "  path = [] # Create DFS path\n",
        "\n",
        "  while stack: \n",
        "    # Pop a vertex from stack and put into path\n",
        "    u = stack.pop(-1)\n",
        "    path.append(u)\n",
        "    # Get all adjacent vertices of the popped vertex u. If a adjacent \n",
        "    # has not been visited, then mark it as visited and put into the stack\n",
        "    for v in graph[u]: \n",
        "      if visited[v] == False: \n",
        "        stack.append(v) \n",
        "        visited[v] = True\n",
        "\n",
        "  return path"
      ],
      "execution_count": null,
      "outputs": []
    }
  ]
}