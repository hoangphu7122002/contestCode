{
  "nbformat": 4,
  "nbformat_minor": 0,
  "metadata": {
    "colab": {
      "name": "adsf.ipynb",
      "provenance": [],
      "collapsed_sections": []
    },
    "kernelspec": {
      "name": "python3",
      "display_name": "Python 3"
    }
  },
  "cells": [
    {
      "cell_type": "code",
      "metadata": {
        "id": "a3hYgaHPUkua"
      },
      "source": [
        "'''\n",
        "  Function to find all primes < n using \"Sieve Method\"\n",
        "  Time complexity = O(sqrt(n))\n",
        "\n",
        "  Parameters:\n",
        "  -----------\n",
        "    n: integer\n",
        "       Input positive number \n",
        "\n",
        "  Returns:\n",
        "  --------\n",
        "    primes: list\n",
        "            All prime numbers < n\n",
        "\n",
        "  Examples:\n",
        "  ---------\n",
        "    >>> primes = Sieve_All_Primes(11)\n",
        "    >>> print(primes)\n",
        "    [2, 3, 5, 7]\n",
        "'''\n",
        "\n",
        "def Sieve_All_Primes(n):\n",
        "  sieve = [True] * n\n",
        "  for i in range(3,int(n**0.5)+1,2):\n",
        "    if sieve[i]:\n",
        "      sieve[i*i::2*i]=[False]*((n-i*i-1)//(2*i)+1)\n",
        "  \n",
        "  # Output the list of all primes\n",
        "  primes = [2] + [i for i in range(3,n,2) if sieve[i]]\n",
        "  return primes"
      ],
      "execution_count": null,
      "outputs": []
    }
  ]
}
