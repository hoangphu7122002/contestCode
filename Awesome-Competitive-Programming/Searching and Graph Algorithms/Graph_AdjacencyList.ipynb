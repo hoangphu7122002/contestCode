{
  "nbformat": 4,
  "nbformat_minor": 0,
  "metadata": {
    "colab": {
      "name": "SP_BFS.ipynb",
      "provenance": [],
      "collapsed_sections": []
    },
    "kernelspec": {
      "name": "python3",
      "display_name": "Python 3"
    }
  },
  "cells": [
    {
      "cell_type": "code",
      "metadata": {
        "id": "a3hYgaHPUkua"
      },
      "source": [
        "'''\n",
        "  Class to create a Unweighted Un-/Directed Graph using Adjacency List\n",
        "\n",
        "  Parameters:\n",
        "  -----------\n",
        "    u, v: integer, string\n",
        "          Name of starting and ending vertex\n",
        "\n",
        "  Returns:\n",
        "  --------\n",
        "    self.graph: defaultdict\n",
        "                Graph, each starting vertex as key is a list of ending vertices\n",
        "\n",
        "  Examples:\n",
        "  ---------\n",
        "    >>> g = Graph()\n",
        "    >>> g.addEdge(1, 2)\n",
        "    >>> g.addEdge(1, 3)\n",
        "    >>> g.addEdge(4, 5)\n",
        "    >>> g.addEdge(6, None)\n",
        "    >>> print(g.graph)\n",
        "    defaultdict(<class 'list'>, {1: [2, 3], 4: [5], 6: []})\n",
        "'''\n",
        "\n",
        "from collections import defaultdict\n",
        "\n",
        "class Graph: \n",
        "  # Constructor \n",
        "  def __init__(self): \n",
        "    # Default dictionary to store graph \n",
        "    self.graph = defaultdict(list) \n",
        "  \n",
        "  # Function to add an edge to graph \n",
        "  def addEdge(self,u,v): \n",
        "    # In case of disconnected graph\n",
        "    if v == None:\n",
        "      self.graph[u]\n",
        "    # In case of connected graph\n",
        "    else:\n",
        "      self.graph[u].append(v)\n",
        "      # In case of undirected graph\n",
        "      #self.graph[v].append(u)"
      ],
      "execution_count": null,
      "outputs": []
    }
  ]
}
