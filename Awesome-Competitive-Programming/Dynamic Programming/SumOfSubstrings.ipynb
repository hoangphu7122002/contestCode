{
  "nbformat": 4,
  "nbformat_minor": 0,
  "metadata": {
    "colab": {
      "name": "SumOfSubstrings.ipynb",
      "provenance": [],
      "collapsed_sections": []
    },
    "kernelspec": {
      "name": "python3",
      "display_name": "Python 3"
    }
  },
  "cells": [
    {
      "cell_type": "code",
      "metadata": {
        "id": "a3hYgaHPUkua"
      },
      "source": [
        "'''\n",
        "  Function to find Sum of all Substrings of an number string\n",
        "  Time complexity = O(|s|)\n",
        "\n",
        "  Parameters:\n",
        "  -----------\n",
        "    s: string\n",
        "       Input number string\n",
        "\n",
        "  Returns:\n",
        "  --------\n",
        "    An integer sum of of all number substrings \n",
        "\n",
        "  Examples:\n",
        "  --------- \n",
        "    The sub-strings of 123 are 1, 2, 3, 12, 23, 123 which sums to 164\n",
        "\n",
        "    >>> t = SumOfSubstrings('123')\n",
        "    >>> print(t)\n",
        "    164\n",
        "\n",
        "  References:\n",
        "    https://www.youtube.com/watch?v=kXS66eP0T6s&list=PLVFrD1dmDdvdw9vOgm3-uyP5qbBWLYx9a&index=3\n",
        "    https://www.geeksforgeeks.org/sum-of-all-substrings-of-a-string-representing-a-number/\n",
        "'''\n",
        "\n",
        "def SumOfSubstrings(s):\n",
        "  dp = [0]*len(s)\n",
        "  dp[0] = int(s[0])\n",
        "  \n",
        "  for i in range(1,len(s)):\n",
        "    # If mod(10^9+7) is required, then add in\n",
        "    dp[i] = (i+1)*int(s[i]) + 10*dp[i-1]\n",
        "    \n",
        "  return sum(dp)"
      ],
      "execution_count": null,
      "outputs": []
    }
  ]
}