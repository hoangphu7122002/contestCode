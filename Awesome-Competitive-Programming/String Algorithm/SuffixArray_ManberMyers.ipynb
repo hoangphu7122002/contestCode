{
  "nbformat": 4,
  "nbformat_minor": 0,
  "metadata": {
    "colab": {
      "name": "SuffixArray_ManberMyers.ipynb",
      "provenance": [],
      "collapsed_sections": []
    },
    "kernelspec": {
      "name": "python3",
      "display_name": "Python 3"
    }
  },
  "cells": [
    {
      "cell_type": "code",
      "metadata": {
        "id": "a3hYgaHPUkua"
      },
      "source": [
        "'''\n",
        "  Function to find Suffix Array of a string based on Manber-Myers algorithm\n",
        "  Time complexity = O(n.log(n))\n",
        "\n",
        "  Parameters:\n",
        "  -----------\n",
        "    s: string\n",
        "       Input string to convert into suffix array \n",
        "\n",
        "  Returns:\n",
        "  --------\n",
        "    sa: list\n",
        "        Suffix array of the input string\n",
        "\n",
        "  Examples:\n",
        "  ---------\n",
        "      Let the given string be \"banana\".\n",
        "\n",
        "    0 banana                          5 a\n",
        "    1 anana     Sort the Suffixes     3 ana\n",
        "    2 nana      ---------------->     1 anana  \n",
        "    3 ana        alphabetically       0 banana  \n",
        "    4 na                              4 na   \n",
        "    5 a                               2 nana\n",
        "\n",
        "    So the suffix array for \"banana\" is [5, 3, 1, 0, 4, 2]\n",
        "\n",
        "    >>> s = 'banana'\n",
        "    >>> sa = SuffixArray_ManberMyers(s)\n",
        "    >>> print(sa)\n",
        "    [5, 3, 1, 0, 4, 2]\n",
        "\n",
        "  References:\n",
        "    http://algorithmicalley.com/archive/2013/06/30/suffix-arrays.aspx\n",
        "    https://www.hackerrank.com/challenges/ashton-and-string/topics/suffix-array\n",
        "'''\n",
        "\n",
        "from collections import defaultdict\n",
        "\n",
        "def SuffixArray_ManberMyers(s):\n",
        "  # Using Bucket Sort instead of built-in \"sorted\" can save space when dealing\n",
        "  # with very big input string\n",
        "  result = []\n",
        "  def Bucket_Sort(s, bucket, order=1):\n",
        "    d = defaultdict(list)\n",
        "    for i in bucket:\n",
        "      key = s[i:i+order]\n",
        "      d[key].append(i)\n",
        "    for k, v in sorted(d.items()):\n",
        "      if len(v) > 1:\n",
        "        Bucket_Sort(s, v, order*2)\n",
        "      else:\n",
        "        result.append(v[0])\n",
        "    return result\n",
        "\n",
        "  sa = Bucket_Sort(s, (i for i in range(len(s)))) # Suffix array\n",
        "  return sa"
      ],
      "execution_count": null,
      "outputs": []
    }
  ]
}