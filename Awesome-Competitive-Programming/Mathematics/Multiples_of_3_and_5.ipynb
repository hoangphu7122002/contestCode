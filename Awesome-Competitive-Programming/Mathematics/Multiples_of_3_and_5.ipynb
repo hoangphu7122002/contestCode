{
  "nbformat": 4,
  "nbformat_minor": 0,
  "metadata": {
    "colab": {
      "name": "Multiples of 3 and 5.ipynb",
      "provenance": [],
      "collapsed_sections": []
    },
    "kernelspec": {
      "name": "python3",
      "display_name": "Python 3"
    }
  },
  "cells": [
    {
      "cell_type": "code",
      "metadata": {
        "id": "a3hYgaHPUkua"
      },
      "source": [
        "def SumOfMultiples(n):\n",
        "  n = n - 1\n",
        "  \n",
        "  sum_of_3 = 3*(n//3)*(1+n//3)//2\n",
        "  sum_of_5 = 5*(n//5)*(1+n//5)//2\n",
        "  sum_of_15 = 15*(n//15)*(1+n//15)//2\n",
        "  \n",
        "  sum = int(sum_of_3 + sum_of_5 - sum_of_15)\n",
        "      \n",
        "  return sum\n",
        "\n",
        "if __name__ == '__main__':\n",
        "  t = int(input())\n",
        "  \n",
        "  for _ in range(t):\n",
        "    n = int(input())\n",
        "    print(SumOfMultiples(n))"
      ],
      "execution_count": null,
      "outputs": []
    }
  ]
}