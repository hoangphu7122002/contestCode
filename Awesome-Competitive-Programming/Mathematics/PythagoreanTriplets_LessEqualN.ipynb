{
  "nbformat": 4,
  "nbformat_minor": 0,
  "metadata": {
    "colab": {
      "name": "PythagoreanTriplets_LessEqualN.ipynb",
      "provenance": [],
      "collapsed_sections": []
    },
    "kernelspec": {
      "name": "python3",
      "display_name": "Python 3"
    }
  },
  "cells": [
    {
      "cell_type": "code",
      "metadata": {
        "id": "a3hYgaHPUkua"
      },
      "source": [
        "'''\n",
        "  Function to generate all Pythagorean Triplets <= N\n",
        "  Time complexity = O(N.log(N))\n",
        "\n",
        "  Parameters:\n",
        "  -----------\n",
        "    N: int\n",
        "       Input number\n",
        "\n",
        "  Returns:\n",
        "  --------\n",
        "    triplets: list\n",
        "              List of Pythagorean Triplet tuples\n",
        "\n",
        "  Examples:\n",
        "  ---------\n",
        "      Every element in triplets must be <= N\n",
        "\n",
        "    >>> N = 20\n",
        "    >>> triplets = PythagoreanTriplets_LessEqualN(N)\n",
        "    >>> print(triplets)\n",
        "    [(3, 4, 5), (6, 8, 10), (9, 12, 15), (12, 16, 20), (5, 12, 13), (15, 8, 17)]\n",
        "\n",
        "  References:\n",
        "    https://codereview.stackexchange.com/questions/250855/efficiently-find-all-the-pythagorean-triplets-where-all-numbers-less-than-1000\n",
        "    https://en.wikipedia.org/wiki/Pythagorean_triple#Generating_a_triple\n",
        "'''\n",
        "\n",
        "from math import sqrt, gcd\n",
        "\n",
        "def PythagoreanTriplets_LessEqualN(N):\n",
        "  triplets = []\n",
        "\n",
        "  for m in range(0, int(sqrt(N-1))+1):\n",
        "    for n in range(1+m%2, min(m, int(sqrt(N-m**2))+1), 2):\n",
        "      if gcd(m, n) > 1:\n",
        "        continue\n",
        "\n",
        "      a = m**2 - n**2\n",
        "      b = 2*m*n\n",
        "      c = m**2 + n**2\n",
        "\n",
        "      for k in range(1, N//c+1):\n",
        "        triplets.append((k*a,k*b,k*c))\n",
        "      \n",
        "  return triplets"
      ],
      "execution_count": null,
      "outputs": []
    }
  ]
}
