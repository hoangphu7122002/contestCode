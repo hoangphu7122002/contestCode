{
  "nbformat": 4,
  "nbformat_minor": 0,
  "metadata": {
    "colab": {
      "name": "BST.ipynb",
      "provenance": [],
      "collapsed_sections": []
    },
    "kernelspec": {
      "name": "python3",
      "display_name": "Python 3"
    }
  },
  "cells": [
    {
      "cell_type": "code",
      "metadata": {
        "id": "a3hYgaHPUkua"
      },
      "source": [
        "'''\n",
        "  Original Binary Search Tree Algorithm\n",
        "  Time complexity = O(logn)\n",
        "\n",
        "  Parameters:\n",
        "  -----------\n",
        "    sortedList: list\n",
        "                A sorted list of numbers as the input \n",
        "    n         : integer\n",
        "                The number to find the index\n",
        "\n",
        "  Returns:\n",
        "  --------\n",
        "    idx: intger\n",
        "\n",
        "  Examples:\n",
        "  ---------\n",
        "    >>> l = [1, 3, 5, 6, 7, 10]\n",
        "    >>> print(BST(l, 5))\n",
        "    2\n",
        "    >>> print(BST(l, 8))\n",
        "    Exception: n is not in the list\n",
        "\n",
        "  References:\n",
        "    https://www.geeksforgeeks.org/binary-search/\n",
        "'''\n",
        "\n",
        "def BST(sortedList, n): \n",
        "  l, r, arr = 0, len(sortedList)-1, sortedList\n",
        "\n",
        "  while l <= r: \n",
        "    m = l + (r - l)//2 # Mid      \n",
        "    # Check if n is present at mid \n",
        "    if arr[m] == n: \n",
        "      return m \n",
        "    # If n is greater, ignore left half \n",
        "    elif arr[m] < n: \n",
        "      l = m + 1\n",
        "    # If n is smaller, ignore right half \n",
        "    else: \n",
        "      r = m - 1\n",
        "      \n",
        "  # If we reach here, then the element was not present \n",
        "  raise Exception('n is not in the list')"
      ],
      "execution_count": null,
      "outputs": []
    }
  ]
}