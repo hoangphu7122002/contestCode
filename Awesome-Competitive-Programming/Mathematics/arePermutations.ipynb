{
  "nbformat": 4,
  "nbformat_minor": 0,
  "metadata": {
    "colab": {
      "name": "Draft.ipynb",
      "provenance": [],
      "collapsed_sections": []
    },
    "kernelspec": {
      "name": "python3",
      "display_name": "Python 3"
    }
  },
  "cells": [
    {
      "cell_type": "code",
      "metadata": {
        "id": "v7CwPh7LozYh"
      },
      "source": [
        "'''\n",
        "  Function to check if 2 numbers/strings are permutations\n",
        "  Time complexity = O(n.logn), n = max(|a|,|b|)\n",
        "\n",
        "  Parameters:\n",
        "  -----------\n",
        "    a: integer or string\n",
        "       First input  \n",
        "    b: integer or string\n",
        "       Second input\n",
        "\n",
        "  Returns:\n",
        "  --------\n",
        "    True/False: boolean\n",
        "\n",
        "  Examples:\n",
        "  ---------\n",
        "    >>> a = 'AEF'\n",
        "    >>> b = 'FEAF'\n",
        "    >>> print(arePermutations(a,b)) \n",
        "    False\n",
        "\n",
        "    >>> a = 1432\n",
        "    >>> b = 4312\n",
        "    >>> print(arePermutations(a,b))\n",
        "    True\n",
        "'''\n",
        "\n",
        "def arePermutations(a,b):\n",
        "  # Decompose input into a sorted list of characters\n",
        "  la, lb = sorted(str(a)), sorted(str(b)) \n",
        "\n",
        "  if la == lb:\n",
        "    return True\n",
        "  else:\n",
        "    return False"
      ],
      "execution_count": 1,
      "outputs": []
    }
  ]
}
