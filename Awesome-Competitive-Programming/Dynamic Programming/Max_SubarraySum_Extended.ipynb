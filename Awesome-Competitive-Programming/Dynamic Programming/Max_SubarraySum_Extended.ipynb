{
  "nbformat": 4,
  "nbformat_minor": 0,
  "metadata": {
    "colab": {
      "name": "Max_SubarraySum_Extended.ipynb",
      "provenance": [],
      "collapsed_sections": []
    },
    "kernelspec": {
      "name": "python3",
      "display_name": "Python 3"
    }
  },
  "cells": [
    {
      "cell_type": "code",
      "metadata": {
        "id": "a3hYgaHPUkua"
      },
      "source": [
        "'''\n",
        "  Function to find maximum subarray sum of an array and its indices\n",
        "  Time complexity = O(n)\n",
        "\n",
        "  Parameters:\n",
        "  -----------\n",
        "    arr: list\n",
        "         Input array of numbers\n",
        "\n",
        "  Returns:\n",
        "  --------\n",
        "    result: tuple\n",
        "            A tuple of maximum subarray sum and its position\n",
        "\n",
        "  Examples:\n",
        "  --------- \n",
        "      Given an array: [-1, 2, 3, -4, 5, 10]\n",
        "      The maximum subarray sum is 16.\n",
        "      Its position is 1 and 5.\n",
        "\n",
        "    >>> arr = [-1, 2, 3, -4, 5, 10]\n",
        "    >>> print(Max_SubarraySum_Extended(arr))\n",
        "    (16, 1, 5)\n",
        "\n",
        "    >>> arr = [-1, -2, -3, -4, -5, -10]\n",
        "    >>> print(Max_SubarraySum_Extended(arr))\n",
        "    (-1, 0, 0)\n",
        "\n",
        "  References:\n",
        "    https://en.wikipedia.org/wiki/Maximum_subarray_problem\n",
        "'''\n",
        "\n",
        "def Max_SubarraySum_Extended(arr):\n",
        "  best_sum = 0  # or: float('-inf')\n",
        "  best_start = best_end = 0  # or: None\n",
        "  current_sum = 0\n",
        "\n",
        "  for current_end, x in enumerate(arr):\n",
        "    if current_sum <= 0:\n",
        "      # Start a new sequence at the current element\n",
        "      current_start = current_end\n",
        "      current_sum = x\n",
        "    else:\n",
        "      # Extend the existing sequence with the current element\n",
        "      current_sum += x\n",
        "\n",
        "    if current_sum > best_sum:\n",
        "      best_sum = current_sum\n",
        "      best_start = current_start\n",
        "      best_end = current_end \n",
        "\n",
        "  if (best_sum, best_start, best_end) == (0, 0, 0):\n",
        "    best_sum = max(arr)\n",
        "    best_start = best_end = arr.index(best_sum)\n",
        "\n",
        "  result = (best_sum, best_start, best_end)\n",
        "  return result"
      ],
      "execution_count": null,
      "outputs": []
    }
  ]
}