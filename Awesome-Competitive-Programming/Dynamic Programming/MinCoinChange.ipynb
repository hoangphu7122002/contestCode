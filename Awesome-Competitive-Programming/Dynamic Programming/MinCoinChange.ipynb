{
  "nbformat": 4,
  "nbformat_minor": 0,
  "metadata": {
    "colab": {
      "name": "MinCoinChange.ipynb",
      "provenance": [],
      "collapsed_sections": []
    },
    "kernelspec": {
      "name": "python3",
      "display_name": "Python 3"
    }
  },
  "cells": [
    {
      "cell_type": "code",
      "metadata": {
        "id": "a3hYgaHPUkua"
      },
      "source": [
        "'''\n",
        "  Function to find minimum number of coins to pay V money using C coins [C1,C2,...,Cn]\n",
        "  Time complexity = O(C.V)\n",
        "\n",
        "  Parameters:\n",
        "  -----------\n",
        "    V     : integer\n",
        "            Value of money to be paid\n",
        "    C     : list\n",
        "            All coin types available \n",
        "\n",
        "  Returns:\n",
        "  --------\n",
        "    Integer: If it's possible to pay V using C coins\n",
        "    Inf    : if it's impossible to pay V using C coins\n",
        "\n",
        "  Examples:\n",
        "  ---------\n",
        "      With 3 types of coins C = [5,1,3], we can make change for V = 11 using \n",
        "      at least 3 coins: {5}, {5} and {1}\n",
        "\n",
        "    >>> V = 11\n",
        "    >>> C = [5,1,3]\n",
        "    >>> print(MinCoinChange(V, C))\n",
        "    3\n",
        "\n",
        "      With 3 types of coins C = [5,3,6], there's no way to make change for V = 11\n",
        "\n",
        "    >>> V = 2\n",
        "    >>> C = [5,3,6]\n",
        "    >>> print(MinCoinChange(V, C))\n",
        "    inf\n",
        "\n",
        "  References:\n",
        "    https://en.wikipedia.org/wiki/Change-making_problem\n",
        "    https://www.youtube.com/watch?v=NJuKJ8sasGk\n",
        "    https://www.youtube.com/watch?v=Y0ZqKpToTic&t=379s\n",
        "'''\n",
        "\n",
        "def MinCoinChange(V, C):\n",
        "  dp = [0] + [float('inf')]*V # Memory for dynamic programming\n",
        "        \n",
        "  for coin in C:\n",
        "    for val in range(coin, V+1):\n",
        "      dp[val] = min(dp[val], dp[val-coin]+1)\n",
        "     \n",
        "  return dp[V]"
      ],
      "execution_count": null,
      "outputs": []
    }
  ]
}
