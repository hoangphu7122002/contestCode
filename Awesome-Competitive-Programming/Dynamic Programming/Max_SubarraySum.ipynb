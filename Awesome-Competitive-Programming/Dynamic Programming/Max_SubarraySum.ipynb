{
  "nbformat": 4,
  "nbformat_minor": 0,
  "metadata": {
    "colab": {
      "name": "Max_SubarraySum.ipynb",
      "provenance": [],
      "collapsed_sections": []
    },
    "kernelspec": {
      "name": "python3",
      "display_name": "Python 3"
    }
  },
  "cells": [
    {
      "cell_type": "code",
      "metadata": {
        "id": "a3hYgaHPUkua"
      },
      "source": [
        "'''\n",
        "  Function to find maximum subarray sum of an array\n",
        "  Time complexity = O(n)\n",
        "\n",
        "  Parameters:\n",
        "  -----------\n",
        "    arr: list\n",
        "         Input array of numbers\n",
        "\n",
        "  Returns:\n",
        "  --------\n",
        "    best: int\n",
        "          Maximum subarray sum\n",
        "\n",
        "  Examples:\n",
        "  --------- \n",
        "      Given an array: [-1, 2, 3, -4, 5, 10]\n",
        "      The maximum subarray sum is 16.\n",
        "      Its position is 1 and 5.\n",
        "\n",
        "    >>> arr = [-1, 2, 3, -4, 5, 10]\n",
        "    >>> print(Max_SubarraySum(arr))\n",
        "    16\n",
        "\n",
        "    >>> arr = [-1, -2, -3, -4, -5, -10]\n",
        "    >>> print(Max_SubarraySum(arr))\n",
        "    -1\n",
        "\n",
        "  References:\n",
        "    https://en.wikipedia.org/wiki/Maximum_subarray_problem\n",
        "'''\n",
        "\n",
        "def Max_SubarraySum(arr):\n",
        "  curr = best = arr[0] # Current and max subarray sum\n",
        "    \n",
        "  for i in arr[1:]:\n",
        "    # After adding i, if current subarray sum >= previous subarray sum, \n",
        "    # then new subarray starts at i\n",
        "    curr = max(i, curr + i) \n",
        "    # Memoize max subarray sum\n",
        "    best = max(best, curr)\n",
        "      \n",
        "  return best"
      ],
      "execution_count": null,
      "outputs": []
    }
  ]
}
