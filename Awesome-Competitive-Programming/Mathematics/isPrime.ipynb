{
  "nbformat": 4,
  "nbformat_minor": 0,
  "metadata": {
    "colab": {
      "name": "isPrime.ipynb",
      "provenance": [],
      "collapsed_sections": []
    },
    "kernelspec": {
      "name": "python3",
      "display_name": "Python 3"
    }
  },
  "cells": [
    {
      "cell_type": "code",
      "metadata": {
        "id": "a3hYgaHPUkua"
      },
      "source": [
        "'''\n",
        "  Function to check if a number is prime using \"Common Method\"\n",
        "  Time complexity = O(sqrt(n))\n",
        "\n",
        "  Parameters:\n",
        "  -----------\n",
        "    n: integer\n",
        "       Input number \n",
        "\n",
        "  Returns:\n",
        "  --------\n",
        "    True/False: boolean\n",
        "\n",
        "'''\n",
        "\n",
        "def isPrime(n):\n",
        "  if n == 2 or n == 3: return True\n",
        "  if n%2 == 0 or n < 2: return False\n",
        "  for i in range(3, int(n**0.5)+1, 2): # Only odd numbers\n",
        "    if n%i == 0:\n",
        "      return False    \n",
        "\n",
        "  return True"
      ],
      "execution_count": null,
      "outputs": []
    }
  ]
}