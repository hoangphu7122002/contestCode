{
  "nbformat": 4,
  "nbformat_minor": 0,
  "metadata": {
    "colab": {
      "name": "BFS.ipynb",
      "provenance": [],
      "collapsed_sections": []
    },
    "kernelspec": {
      "name": "python3",
      "display_name": "Python 3"
    }
  },
  "cells": [
    {
      "cell_type": "code",
      "metadata": {
        "id": "a3hYgaHPUkua"
      },
      "source": [
        "'''\n",
        "  Function to find Breadth-First Search path from a source node in un-/directed graph\n",
        "  Time complexity = O(V+E) for Adjacency List\n",
        "  Time complexity = O(V^2) for Adjacency Matrix\n",
        "\n",
        "  Parameters:\n",
        "  -----------\n",
        "    graph: defaultdict\n",
        "           Graph, each starting vertex as a key is a list of ending vertices\n",
        "    V    : integer\n",
        "           Number of vertices\n",
        "    src  : integer\n",
        "           Starting vertex of the BFS path\n",
        "\n",
        "  Returns:\n",
        "  --------\n",
        "    path: list\n",
        "          BFS path, contains all nodes on the path\n",
        "\n",
        "  Examples:\n",
        "  ---------\n",
        "    >>> graph = {0: [1, 2], 1: [2], 2: [0, 3], 3: [3]}\n",
        "    >>> V = 4\n",
        "    >>> src = 2\n",
        "    >>> print(BFS(graph, V, src))\n",
        "    [2, 0, 3, 1]\n",
        "\n",
        "  References:\n",
        "    https://www.geeksforgeeks.org/breadth-first-search-or-bfs-for-a-graph/\n",
        "'''\n",
        "\n",
        "def BFS(graph, V, src): \n",
        "  visited = [False]*V # Mark all verices as not visited \n",
        "  queue = [] # Create a queue for BFS\n",
        "  queue.append(src) # Push the current source node\n",
        "  visited[src] = True # Mark the source node as visited\n",
        "  path = [] # Create BFS path\n",
        "\n",
        "  while queue: \n",
        "    # Pop a vertex from queue and put into path\n",
        "    u = queue.pop(0)\n",
        "    path.append(u)\n",
        "    # Get all adjacent vertices of the popped vertex u. If a adjacent \n",
        "    # has not been visited, then mark it as visited and put into the queue \n",
        "    for v in graph[u]:  \n",
        "      if visited[v] == False: \n",
        "        queue.append(v) \n",
        "        visited[v] = True\n",
        "\n",
        "  return path"
      ],
      "execution_count": null,
      "outputs": []
    }
  ]
}
