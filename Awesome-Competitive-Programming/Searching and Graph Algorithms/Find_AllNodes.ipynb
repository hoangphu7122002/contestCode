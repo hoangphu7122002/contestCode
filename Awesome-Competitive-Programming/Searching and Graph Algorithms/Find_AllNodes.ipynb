{
  "nbformat": 4,
  "nbformat_minor": 0,
  "metadata": {
    "colab": {
      "name": "Find_AllNodes.ipynb",
      "provenance": [],
      "collapsed_sections": []
    },
    "kernelspec": {
      "name": "python3",
      "display_name": "Python 3"
    }
  },
  "cells": [
    {
      "cell_type": "code",
      "metadata": {
        "id": "a3hYgaHPUkua"
      },
      "source": [
        "'''\n",
        "  Function to find all nodes in the graph\n",
        "  Time complexity = O(V+E) for Adjacency List\n",
        "\n",
        "  Parameters:\n",
        "  -----------\n",
        "    graph: defaultdict\n",
        "           Graph, each starting vertex as a key is a list of ending vertices\n",
        "\n",
        "  Returns:\n",
        "  --------\n",
        "    AllNodes: set\n",
        "              A set of all nodes in the graph\n",
        "\n",
        "  Examples:\n",
        "  ---------\n",
        "    >>> graph = {0: [1, 3], 1: [2], 3: [4, 7], 4: [5, 6, 7], 5: [6], 6: [7]}\n",
        "    >>> print(Find_AllNodes(graph))\n",
        "    {0, 1, 2, 3, 4, 5, 6, 7}\n",
        "'''\n",
        "\n",
        "def Find_AllNodes(graph):  \n",
        "  AllNodes = set(graph.keys())\n",
        "  for values in graph.values():\n",
        "    for node in values:\n",
        "      AllNodes.add(node)\n",
        "  return AllNodes"
      ],
      "execution_count": null,
      "outputs": []
    }
  ]
}