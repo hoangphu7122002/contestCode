{
  "nbformat": 4,
  "nbformat_minor": 0,
  "metadata": {
    "colab": {
      "name": "LCPArray_Kasai.ipynb",
      "provenance": [],
      "collapsed_sections": []
    },
    "kernelspec": {
      "name": "python3",
      "display_name": "Python 3"
    }
  },
  "cells": [
    {
      "cell_type": "code",
      "metadata": {
        "id": "a3hYgaHPUkua"
      },
      "source": [
        "'''\n",
        "  Function to find Longest Common Prefix Array based on Kasai algorithm\n",
        "  Time complexity = O(n)\n",
        "\n",
        "  Parameters:\n",
        "  -----------\n",
        "    s : string\n",
        "        Input string to convert into suffix array \n",
        "    sa: list\n",
        "        Suffix array of the input string\n",
        "\n",
        "  Returns:\n",
        "  --------\n",
        "    l: list\n",
        "       Longest Common Prefix Array\n",
        "\n",
        "  Examples:\n",
        "  ---------\n",
        "      Let the given string be \"banana\".\n",
        "                                 Suffix    LCP\n",
        "    0 banana                     5 a        0\n",
        "    1 anana   Sort the Suffixes  3 ana      1\n",
        "    2 nana    ---------------->  1 anana    3\n",
        "    3 ana      alphabetically    0 banana   0\n",
        "    4 na                         4 na       0\n",
        "    5 a                          2 nana     2\n",
        "\n",
        "    The suffix array for \"banana\" is [5, 3, 1, 0, 4, 2]\n",
        "    The LCP array is [0, 1, 3, 0, 0, 2]\n",
        "\n",
        "    >>> s = 'banana'\n",
        "    >>> sa = SuffixArray_ManberMyers(s)\n",
        "    >>> print(LCPArray_Kasai(s, sa))\n",
        "    [0, 1, 3, 0, 0, 2]\n",
        "\n",
        "  References:\n",
        "    https://leetcode.com/problems/longest-duplicate-substring/discuss/695003/super-simple-using-suffix-array-java-python\n",
        "    https://www.hackerrank.com/challenges/ashton-and-string/topics/suffix-array\n",
        "'''\n",
        "\n",
        "def LCPArray_Kasai(s, sa):\n",
        "  n = len(s)\n",
        "  lcp, ra = [0] * (n-1), [0] * n\n",
        "  for i in range(n):\n",
        "    ra[sa[i]] = i\n",
        "  k = 0\n",
        "  for i in range(n):\n",
        "    if ra[i] == n - 1:\n",
        "      k = 0\n",
        "      continue\n",
        "    j = sa[ra[i] + 1]\n",
        "    while i + k < n and j + k < n and s[i + k] == s[j + k]:\n",
        "      k += 1\n",
        "    lcp[ra[i]] = k\n",
        "    if k > 0:\n",
        "      k -= 1\n",
        "  l = [0]\n",
        "  l.extend(lcp)\n",
        "  return l"
      ],
      "execution_count": null,
      "outputs": []
    }
  ]
}
