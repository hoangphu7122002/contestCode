{
  "nbformat": 4,
  "nbformat_minor": 0,
  "metadata": {
    "colab": {
      "name": "Max_PathSum_Triangle.ipynb",
      "provenance": [],
      "collapsed_sections": []
    },
    "kernelspec": {
      "name": "python3",
      "display_name": "Python 3"
    }
  },
  "cells": [
    {
      "cell_type": "code",
      "metadata": {
        "id": "a3hYgaHPUkua"
      },
      "source": [
        "'''\n",
        "  Function to find Maximum Path Sum from top to bottom of a Triangle\n",
        "  Time complexity = O(R), R is number of rows of the triangle\n",
        "\n",
        "  Parameters:\n",
        "  -----------\n",
        "    tri: list\n",
        "         Input triangle\n",
        "\n",
        "  Returns:\n",
        "  --------\n",
        "    maxSum: integer\n",
        "            Max sum of the path from top to bottom\n",
        "\n",
        "  Examples:\n",
        "  --------- \n",
        "         3                                        [3]\n",
        "        7 5             Max sum path            [7]  5    \n",
        "       2 4 6    ===========================>    2 [4] 6     \n",
        "      8 5 9 3   Max sum = 3 + 7 + 4 + 9 = 23   8 5  [9] 3\n",
        "\n",
        "          8                                           [8]\n",
        "       -4   4             Max sum path              -4   [4]    \n",
        "      2   2   6    ===========================>    2   2   [6]     \n",
        "     1  1   1  1   Max sum = 8 + 4 + 6 + 1 = 19   1  1   [1]  1\n",
        "\n",
        "    >>> tri = [[3],\n",
        "               [7,4],\n",
        "               [2,4,6],\n",
        "               [8,5,9,3]]\n",
        "    >>> print(Max_PathSum_Triangle(tri))\n",
        "    23\n",
        "\n",
        "  References:\n",
        "    https://blog.dreamshire.com/solutions/project_euler/project-euler-problem-018-solution/\n",
        "'''\n",
        "\n",
        "from copy import deepcopy\n",
        "\n",
        "def Max_PathSum_Triangle(tri):\n",
        "  '''\n",
        "    This algorithm is to find max path sum.\n",
        "    For other cases, please modify codes.\n",
        "  '''\n",
        "  memo = deepcopy(tri)\n",
        "\n",
        "  for r in range(len(memo)-1-1,-1,-1):\n",
        "    for c in range(0,len(memo[r])):\n",
        "      memo[r][c] += max(memo[r+1][c],memo[r+1][c+1])\n",
        "  \n",
        "  maxSum = memo[0][0] # Top of the triangle is the accumulative sum\n",
        "  return maxSum"
      ],
      "execution_count": null,
      "outputs": []
    }
  ]
}
