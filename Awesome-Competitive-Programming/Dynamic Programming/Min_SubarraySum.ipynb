{
  "nbformat": 4,
  "nbformat_minor": 0,
  "metadata": {
    "colab": {
      "name": "Min_SubarraySum.ipynb",
      "provenance": [],
      "collapsed_sections": []
    },
    "kernelspec": {
      "name": "python3",
      "display_name": "Python 3"
    }
  },
  "cells": [
    {
      "cell_type": "code",
      "metadata": {
        "id": "a3hYgaHPUkua"
      },
      "source": [
        "'''\n",
        "  Function to find minimum subarray sum of an array\n",
        "  Time complexity = O(n)\n",
        "\n",
        "  Parameters:\n",
        "  -----------\n",
        "    arr: list\n",
        "         Input array of numbers\n",
        "\n",
        "  Returns:\n",
        "  --------\n",
        "    result: tuple\n",
        "            A tuple of minimum subarray sum and its position\n",
        "\n",
        "  Examples:\n",
        "  --------- \n",
        "      Given an array: [3, -4, 2, -3, -1, 7, -5]\n",
        "      The minimum subarray sum is -6.\n",
        "      Its position is 1 and 4.\n",
        "\n",
        "    >>> arr = [3, -4, 2, -3, -1, 7, -5]\n",
        "    >>> print(Min_SubarraySum(arr))\n",
        "    (-6, 1, 4)\n",
        "\n",
        "    >>> arr = [2, 6, 8, 1, 4]\n",
        "    >>> print(Min_SubarraySum(arr))\n",
        "    (1, 3, 3)\n",
        "\n",
        "  References:\n",
        "    https://en.wikipedia.org/wiki/Maximum_subarray_problem\n",
        "'''\n",
        "\n",
        "def Min_SubarraySum(arr):\n",
        "  best_sum = 0  # or: float('-inf')\n",
        "  best_start = best_end = 0  # or: None\n",
        "  current_sum = 0\n",
        "\n",
        "  for current_end, x in enumerate(arr):\n",
        "    if current_sum >= 0:\n",
        "      # Start a new sequence at the current element\n",
        "      current_start = current_end\n",
        "      current_sum = x\n",
        "    else:\n",
        "      # Extend the existing sequence with the current element\n",
        "      current_sum += x\n",
        "\n",
        "    if current_sum < best_sum:\n",
        "      best_sum = current_sum\n",
        "      best_start = current_start\n",
        "      best_end = current_end \n",
        "\n",
        "  if (best_sum, best_start, best_end) == (0, 0, 0):\n",
        "    best_sum = min(arr)\n",
        "    best_start = best_end = arr.index(best_sum)\n",
        "\n",
        "  result = (best_sum, best_start, best_end)\n",
        "  return result"
      ],
      "execution_count": null,
      "outputs": []
    }
  ]
}