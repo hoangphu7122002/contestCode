{
  "nbformat": 4,
  "nbformat_minor": 0,
  "metadata": {
    "colab": {
      "name": "Lattice_Paths.ipynb",
      "provenance": [],
      "collapsed_sections": []
    },
    "kernelspec": {
      "name": "python3",
      "display_name": "Python 3"
    }
  },
  "cells": [
    {
      "cell_type": "code",
      "metadata": {
        "id": "a3hYgaHPUkua"
      },
      "source": [
        "from math import factorial as f\n",
        "\n",
        "def Lattice_Paths(n,m):\n",
        "  res = f(n+m)//(f(n)*f(m)) # (n+m)C(n) or (n+m)C(m)\n",
        "  return res%(10**9+7)\n",
        "\n",
        "if __name__ == '__main__':\n",
        "  for _ in range(int(input())):\n",
        "    nm = list(map(int,input().split()))\n",
        "    n,m = nm\n",
        "    print(Lattice_Paths(n,m))"
      ],
      "execution_count": null,
      "outputs": []
    }
  ]
}