{
  "nbformat": 4,
  "nbformat_minor": 0,
  "metadata": {
    "colab": {
      "name": "adsf.ipynb",
      "provenance": [],
      "collapsed_sections": []
    },
    "kernelspec": {
      "name": "python3",
      "display_name": "Python 3"
    }
  },
  "cells": [
    {
      "cell_type": "code",
      "metadata": {
        "id": "a3hYgaHPUkua"
      },
      "source": [
        "'''\n",
        "  Function to create Pascal Triangle, used to calculate multiple large-number combinations\n",
        "  Time complexity = O(n^2)\n",
        "  Space complexity = O((n+1)(n+2)/2)\n",
        "\n",
        "  Parameters:\n",
        "  -----------\n",
        "    N: integer\n",
        "       Size of Pascal Triangle\n",
        "  \n",
        "  Returns:\n",
        "  --------\n",
        "    t: list\n",
        "       All rows of Pascal Triangle\n",
        "\n",
        "  Examples:\n",
        "  ---------\n",
        "          For N = 4:\n",
        "              1           n = 0               0C0\n",
        "            1   1         n = 1            1C0   1C1\n",
        "          1   2   1       n = 2         2C0   2C1   2C2 \n",
        "        1   3   3   1     n = 3      3C0   3C1   3C2   3C3\n",
        "      1   4   6   4   1   n = 4   4C0   4C1   4C2   4C3   4C4\n",
        "\n",
        "    >>> t = Pascal_Triangle(4)\n",
        "    >>> print(t)\n",
        "    [[1], [1, 1], [1, 2, 1], [1, 3, 3, 1], [1, 4, 6, 4, 1]]\n",
        "\n",
        "  References: \n",
        "    https://www.hackerrank.com/challenges/ncr-table/editorial\n",
        "'''\n",
        "\n",
        "def Pascal_Triangle(N):\n",
        "  t = [] # Full triangle\n",
        "\n",
        "  for i in range(0,N+1):\n",
        "    r = [0]*(i+1) # Row i of triangle t\n",
        "    t.append(r)\n",
        "\n",
        "    for j in range(0,len(r)):\n",
        "      if j == 0 or j == i: # nC0 = nCn = 1\n",
        "        t[i][j] = 1\n",
        "      else:\n",
        "        t[i][j] = t[i-1][j-1] + t[i-1][j]\n",
        "\n",
        "  return t"
      ],
      "execution_count": null,
      "outputs": []
    }
  ]
}
