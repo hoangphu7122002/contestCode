{
  "nbformat": 4,
  "nbformat_minor": 0,
  "metadata": {
    "colab": {
      "name": "PrimeFactorization_SPF.ipynb",
      "provenance": [],
      "collapsed_sections": []
    },
    "kernelspec": {
      "name": "python3",
      "display_name": "Python 3"
    }
  },
  "cells": [
    {
      "cell_type": "code",
      "metadata": {
        "id": "a3hYgaHPUkua"
      },
      "source": [
        "'''\n",
        "  Function to return prime factorization by dividing by SPF at every step\n",
        "  Time complexity = O(log n) \n",
        "  \n",
        "  Parameters:\n",
        "  -----------\n",
        "    x   : integer\n",
        "          Input number \n",
        "    SPFs: list\n",
        "          All Smallest Prime Factors from 0 to x   \n",
        "\n",
        "  Returns:\n",
        "  --------\n",
        "    PFs: set\n",
        "         All prime factors of the number x\n",
        "\n",
        "  Examples:\n",
        "  ---------\n",
        "    >>> # In case we already calculated all Smallest Prime Factors from 0 to x\n",
        "    >>> SPFs = [0, 1, 2, 3, 2, 5, 2, 7, 2, 3]\n",
        "    >>> print(PrimeFactorization_SPF(4,SPFs))\n",
        "    {2}\n",
        "\n",
        "    >>> # In case we didn't calculate all Smallest Prime Factors from 0 to x\n",
        "    >>> SPFs = Sieve_SPF(10)\n",
        "    >>> print(SPFs)\n",
        "    [0, 1, 2, 3, 2, 5, 2, 7, 2, 3]\n",
        "    >>> print(PrimeFactorization_SPF(4,SPFs))\n",
        "    {2}\n",
        "\n",
        "  See also:\n",
        "    https://github.com/leduckhai/Awesome-Competitive-Programming/blob/main/Mathematics/Sieve_SPF.ipynb\n",
        "\n",
        "  References: \n",
        "    https://www.geeksforgeeks.org/prime-factorization-using-sieve-olog-n-multiple-queries/\n",
        "'''\n",
        "\n",
        "def PrimeFactorization_SPF(x,SPFs):\n",
        "  PFs = set() # Set of all prime factors of x\n",
        "  while (x != 1):\n",
        "    PFs.add(SPFs[x])\n",
        "    x = x // SPFs[x]\n",
        "  return PFs "
      ],
      "execution_count": null,
      "outputs": []
    }
  ]
}
