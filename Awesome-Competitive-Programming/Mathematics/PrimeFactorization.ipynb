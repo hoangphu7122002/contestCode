{
  "nbformat": 4,
  "nbformat_minor": 0,
  "metadata": {
    "colab": {
      "name": "PrimeFactorization.ipynb",
      "provenance": [],
      "collapsed_sections": []
    },
    "kernelspec": {
      "name": "python3",
      "display_name": "Python 3"
    }
  },
  "cells": [
    {
      "cell_type": "code",
      "metadata": {
        "id": "a3hYgaHPUkua"
      },
      "source": [
        "'''\n",
        "  Function to find all prime factors of a positive integer\n",
        "  Time complexity = O(sqrt(n))\n",
        "\n",
        "  Parameters:\n",
        "  -----------\n",
        "    n: integer\n",
        "       The input positive number\n",
        "\n",
        "  Returns:\n",
        "  --------\n",
        "    factors: list\n",
        "             All prime factors of the input number\n",
        "\n",
        "  Examples:\n",
        "    >>> factors = PrimeFactorization(45)\n",
        "    >>> print(factors)\n",
        "    [3, 5]\n",
        "\n",
        "  See also:\n",
        "    https://github.com/leduckhai/Awesome-Competitive-Programming/blob/main/Mathematics/PrimeFactorization_SPF.ipynb\n",
        "'''\n",
        "\n",
        "def PrimeFactorization(n):\n",
        "  factors = []\n",
        "  d = 2\n",
        "\n",
        "  while n > 1:\n",
        "    \n",
        "    while n % d == 0:\n",
        "      if d not in factors:\n",
        "        factors.append(d)\n",
        "      n /= d\n",
        "\n",
        "    d += 1\n",
        "\n",
        "    if d*d > n:\n",
        "      if n > 1: \n",
        "        factors.append(int(n))\n",
        "        break\n",
        "\n",
        "  return factors"
      ],
      "execution_count": null,
      "outputs": []
    }
  ]
}