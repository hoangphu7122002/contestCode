{
  "nbformat": 4,
  "nbformat_minor": 0,
  "metadata": {
    "colab": {
      "name": "BST_Find_Index.ipynb",
      "provenance": [],
      "collapsed_sections": []
    },
    "kernelspec": {
      "name": "python3",
      "display_name": "Python 3"
    }
  },
  "cells": [
    {
      "cell_type": "code",
      "metadata": {
        "id": "a3hYgaHPUkua"
      },
      "source": [
        "'''\n",
        "  Function to find the index of a number in a sorted list using Binary Search Tree Algorithm\n",
        "  Time complexity = O(logn)\n",
        "\n",
        "  Parameters:\n",
        "  -----------\n",
        "    sortedList: list\n",
        "                A sorted list of numbers as the input \n",
        "    n         : integer\n",
        "                The number to find the index\n",
        "\n",
        "  Returns:\n",
        "  --------\n",
        "    idx: intger\n",
        "\n",
        "  Examples:\n",
        "  ---------\n",
        "    >>> l = [1, 3, 5, 6, 7, 10]\n",
        "    >>> print(BST_Find_Index(l,5))\n",
        "    2\n",
        "    >>> print(BST_Find_Index(l,8))\n",
        "    Exception: n is not in the list\n",
        "'''\n",
        "\n",
        "from bisect import bisect_left\n",
        "\n",
        "def BST_Find_Index(sortedList,n):\n",
        "  idx = bisect_left(sortedList,n)\n",
        "  if idx < len(sortedList) and sortedList[idx] == n:\n",
        "    return idx\n",
        "  else:\n",
        "    raise Exception('n is not in the list')"
      ],
      "execution_count": null,
      "outputs": []
    }
  ]
}