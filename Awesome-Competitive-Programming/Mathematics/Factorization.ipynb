{
  "nbformat": 4,
  "nbformat_minor": 0,
  "metadata": {
    "colab": {
      "name": "adsf.ipynb",
      "provenance": [],
      "collapsed_sections": []
    },
    "kernelspec": {
      "name": "python3",
      "display_name": "Python 3"
    }
  },
  "cells": [
    {
      "cell_type": "code",
      "metadata": {
        "id": "a3hYgaHPUkua"
      },
      "source": [
        "'''\n",
        "  Function to find all factors of an integer\n",
        "  Time complexity = O(sqrt(n))\n",
        "\n",
        "  Parameters:\n",
        "  -----------\n",
        "    n: integer\n",
        "       Input number \n",
        "    \n",
        "  Returns:\n",
        "  --------\n",
        "    factors: list\n",
        "             All factors of the number n\n",
        "\n",
        "  Examples:\n",
        "  ---------\n",
        "    >>> factors = Factorization(10)\n",
        "    >>> print(factors)\n",
        "    [1, 10, 2, 5]\n",
        "\n",
        "  See also:\n",
        "    https://github.com/leduckhai/Awesome-Competitive-Programming/blob/main/Mathematics/PrimeFactorization.ipynb\n",
        "    https://github.com/leduckhai/Awesome-Competitive-Programming/blob/main/Mathematics/PrimeFactorization_SPF.ipynb\n",
        "'''\n",
        "\n",
        "def Factorization(n):\n",
        "  factors = []\n",
        "\n",
        "  for div in range(1, int(n**0.5) + 1):\n",
        "    if n % div == 0:\n",
        "      factors.append(div)\n",
        "\n",
        "      other = n // div\n",
        "      if other != div:\n",
        "        factors.append(other)\n",
        "\n",
        "  return factors"
      ],
      "execution_count": null,
      "outputs": []
    }
  ]
}
