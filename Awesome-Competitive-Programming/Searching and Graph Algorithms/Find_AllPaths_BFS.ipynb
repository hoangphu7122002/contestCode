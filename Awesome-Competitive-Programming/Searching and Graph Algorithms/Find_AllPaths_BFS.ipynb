{
  "nbformat": 4,
  "nbformat_minor": 0,
  "metadata": {
    "colab": {
      "name": "Find_AllPaths_BFS.ipynb",
      "provenance": [],
      "collapsed_sections": []
    },
    "kernelspec": {
      "name": "python3",
      "display_name": "Python 3"
    }
  },
  "cells": [
    {
      "cell_type": "code",
      "metadata": {
        "id": "a3hYgaHPUkua"
      },
      "source": [
        "'''\n",
        "  Function to find all paths between 2 nodes in a graph using BFS\n",
        "  Time complexity = NP-Hard\n",
        "\n",
        "  Parameters:\n",
        "  -----------\n",
        "    graph: defaultdict\n",
        "           Graph, each starting vertex as a key is a list of ending vertices\n",
        "    start: integer, string\n",
        "           Starting vertex of the path\n",
        "    end  : integer, string\n",
        "           Ending vertex of the path\n",
        "\n",
        "  Returns:\n",
        "  --------\n",
        "    AllPaths: list\n",
        "              A list of all paths between 2 nodes in a graph\n",
        "\n",
        "\n",
        "  Examples:\n",
        "  ---------\n",
        "    >>> graph = {0: [1, 3], 1: [2], 2: [], 3: [4, 7], 4: [5, 6, 7], 5: [6], 6: [7]}\n",
        "    >>> print(Find_AllPaths_BFS(graph, 0, 7))\n",
        "    [[0, 3, 7], [0, 3, 4, 7], [0, 3, 4, 6, 7], [0, 3, 4, 5, 6, 7]]\n",
        "'''\n",
        "\n",
        "def Find_AllPaths_BFS(graph, start, end):\n",
        "  queue = [(start, [start])]\n",
        "  AllPaths = []\n",
        "  while queue:\n",
        "    (vertex, path) = queue.pop(0)\n",
        "    for next in set(graph[vertex]) - set(path):\n",
        "      if next == end:\n",
        "        AllPaths.append(path + [next])\n",
        "      else:\n",
        "        queue.append((next, path + [next]))\n",
        "  return AllPaths\n",
        "\n",
        "graph = {0: [1, 3], 1: [2], 2: [], 3: [4, 7], 4: [5, 6, 7], 5: [6], 6: [7]}\n",
        "print(Find_AllPaths_BFS(graph, 0, 7))\n"
      ],
      "execution_count": null,
      "outputs": []
    }
  ]
}
