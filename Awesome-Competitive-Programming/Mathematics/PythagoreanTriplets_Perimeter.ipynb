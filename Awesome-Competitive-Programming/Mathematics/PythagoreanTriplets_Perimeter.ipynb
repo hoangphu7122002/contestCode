{
  "nbformat": 4,
  "nbformat_minor": 0,
  "metadata": {
    "colab": {
      "name": "PythagoreanTriplets_Perimeter.ipynb",
      "provenance": [],
      "collapsed_sections": []
    },
    "kernelspec": {
      "name": "python3",
      "display_name": "Python 3"
    }
  },
  "cells": [
    {
      "cell_type": "code",
      "metadata": {
        "id": "a3hYgaHPUkua"
      },
      "source": [
        "'''\n",
        "  Function to find Pythagorean Triplets having perimeter (or sum) P\n",
        "  Time complexity = O(P)\n",
        "\n",
        "  Parameters:\n",
        "  -----------\n",
        "    P: int\n",
        "       Input perimeter \n",
        "\n",
        "  Returns:\n",
        "  --------\n",
        "    triplets: set\n",
        "              A set of all Pythagorean Triplet tuples having perimeter P\n",
        "\n",
        "  Examples:\n",
        "  ---------\n",
        "    >>> P = 120\n",
        "    >>> triplets = PythagoreanTriplets_Perimeter(P)\n",
        "    >>> print(triplets)\n",
        "    {(24, 45, 51), (20, 48, 52), (30, 40, 50)}\n",
        "\n",
        "    >>> P = 11\n",
        "    >>> triplets = PythagoreanTriplets_Perimeter(P)\n",
        "    >>> print(triplets)\n",
        "    set()\n",
        "\n",
        "  References:\n",
        "    https://www.geeksforgeeks.org/pythagorean-triplet-with-given-sum-using-single-loop/?ref=lbp\n",
        "'''\n",
        "\n",
        "def PythagoreanTriplets_Perimeter(P):\n",
        "  triplets = set()\n",
        "  \n",
        "  for a in range(1, P):\n",
        "    b = (P**2 - 2*P*a)//(2*P - 2*a)\n",
        "    c = P - a - b\n",
        "    \n",
        "    if a**2 + b**2 == c**2 and b > 0 and c > 0:\n",
        "      triplets.add(tuple(sorted([a,b,c])))\n",
        "    \n",
        "  return triplets"
      ],
      "execution_count": null,
      "outputs": []
    }
  ]
}
