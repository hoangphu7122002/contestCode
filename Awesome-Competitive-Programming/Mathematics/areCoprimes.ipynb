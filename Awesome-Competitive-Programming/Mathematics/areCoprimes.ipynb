{
  "nbformat": 4,
  "nbformat_minor": 0,
  "metadata": {
    "colab": {
      "name": "asdf.ipynb",
      "provenance": [],
      "collapsed_sections": []
    },
    "kernelspec": {
      "name": "python3",
      "display_name": "Python 3"
    }
  },
  "cells": [
    {
      "cell_type": "code",
      "metadata": {
        "id": "a3hYgaHPUkua"
      },
      "source": [
        "'''\n",
        "  Function to check if two numbers are coprime\n",
        "  Time complexity = O(log a.b)\n",
        "\n",
        "  Parameters:\n",
        "  -----------\n",
        "    a: integer\n",
        "       First input number \n",
        "    b: integer\n",
        "       Second input number\n",
        "\n",
        "  Returns:\n",
        "  --------\n",
        "    True/False: boolean\n",
        "\n",
        "  References: \n",
        "    https://stackoverflow.com/questions/39678984/efficiently-check-if-two-numbers-are-co-primes-relatively-primes/39679114#39679114\n",
        "'''\n",
        "\n",
        "import math\n",
        "\n",
        "def areCoprimes(a,b):\n",
        "  return math.gcd(a,b) == 1"
      ],
      "execution_count": null,
      "outputs": []
    }
  ]
}
