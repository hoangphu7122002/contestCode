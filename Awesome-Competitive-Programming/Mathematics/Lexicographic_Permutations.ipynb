{
  "nbformat": 4,
  "nbformat_minor": 0,
  "metadata": {
    "colab": {
      "name": "adsf.ipynb",
      "provenance": [],
      "collapsed_sections": []
    },
    "kernelspec": {
      "name": "python3",
      "display_name": "Python 3"
    }
  },
  "cells": [
    {
      "cell_type": "code",
      "metadata": {
        "id": "a3hYgaHPUkua"
      },
      "source": [
        "'''\n",
        "  Function to find n-th Lexicographic Permutation of a very long word\n",
        "  Time complexity = O(n) \n",
        "\n",
        "  Parameters:\n",
        "  -----------\n",
        "    word: string\n",
        "          Input word to find permutation \n",
        "    n   : integer\n",
        "          Order of Lexicographic Permutation\n",
        "\n",
        "  Returns:\n",
        "  --------\n",
        "    word_perm: string\n",
        "               n-th permutated word\n",
        "\n",
        "  Examples:\n",
        "  ---------\n",
        "    The Lexicographic Permutations of 'abc' are:\n",
        "    'abc', 'acb', 'bac', 'bca', 'cab', 'cba'\n",
        "      1      2      3      4      5      6    (= 3!)\n",
        "\n",
        "    >>> word = 'abc'\n",
        "    >>> word_perm = Lexicographic_Permutations(word,4)\n",
        "    >>> print(word_perm)\n",
        "    bca\n",
        "'''\n",
        "\n",
        "from math import factorial as f\n",
        "\n",
        "def Lexicographic_Permutations(word,n): \n",
        "  n -= 1 # First order of permutation is 1, not 0\n",
        "  queue = sorted(word)\n",
        "  word_perm = ''\n",
        "  i = 1\n",
        "\n",
        "  while queue:\n",
        "    pos = n//f(len(word)-i)\n",
        "    word_perm += queue.pop(pos)\n",
        "    n -= pos*f(len(word)-i)\n",
        "    i += 1\n",
        "  \n",
        "  return word_perm"
      ],
      "execution_count": null,
      "outputs": []
    }
  ]
}
