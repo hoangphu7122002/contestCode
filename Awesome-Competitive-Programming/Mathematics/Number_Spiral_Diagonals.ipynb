{
  "nbformat": 4,
  "nbformat_minor": 0,
  "metadata": {
    "colab": {
      "name": "Number_Spiral_Diagonals.ipynb",
      "provenance": [],
      "collapsed_sections": []
    },
    "kernelspec": {
      "name": "python3",
      "display_name": "Python 3"
    }
  },
  "cells": [
    {
      "cell_type": "code",
      "metadata": {
        "id": "a3hYgaHPUkua"
      },
      "source": [
        "# Faster solution instead of Brute-force method O(n)\n",
        "# Time complexity = O(1)\n",
        "def Number_Spiral_Diagonals(n):\n",
        "  N = (n+1)//2 # Number of numbers from 1 to n\n",
        "  \n",
        "  sum1 = n*(n+1)*(n+2)//6 - 3*N*(1+n)//2 + 3*N\n",
        "  sum2 = n*(n+1)*(n+2)//6 - 2*N*(1+n)//2 + 2*N\n",
        "  sum3 = n*(n+1)*(n+2)//6 - 1*N*(1+n)//2 + 1*N\n",
        "  sum4 = n*(n+1)*(n+2)//6\n",
        "  sum = sum1 + sum2 + sum3 + sum4 - 3\n",
        "  \n",
        "  return sum%(10**9+7)\n",
        "\n",
        "if __name__ == '__main__':\n",
        "  for _ in range(int(input())):\n",
        "    n = int(input())\n",
        "    print(Number_Spiral_Diagonals(n))"
      ],
      "execution_count": null,
      "outputs": []
    }
  ]
}